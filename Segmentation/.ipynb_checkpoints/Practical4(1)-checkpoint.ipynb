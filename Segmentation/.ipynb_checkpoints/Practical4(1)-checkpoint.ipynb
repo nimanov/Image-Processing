{
 "cells": [
  {
   "cell_type": "markdown",
   "metadata": {},
   "source": [
    "# IP - Practical 4 : Edge detection"
   ]
  },
  {
   "cell_type": "code",
   "execution_count": 10,
   "metadata": {},
   "outputs": [],
   "source": [
    "from matplotlib import pyplot as plt\n",
    "import numpy as np\n",
    "import cv2\n",
    "import itertools\n",
    "from scipy.ndimage.interpolation import shift\n",
    "\n",
    "path_base =  '..//Base_images//'"
   ]
  },
  {
   "cell_type": "markdown",
   "metadata": {},
   "source": [
    "# 1-One dimensionnal case\n",
    "The aim of this part is to show you the starting point of filtering in image processing, which is the 1D filtering. This first part will allow you how to generalize the filtering from 1D (signal) to 2D (images)\n",
    "\n",
    "1. Create two mono- dimensionnal functions that give as output \"Ramp edge\" and \"Roof\" edge. \n",
    "2. For each of them, perform the first and second derivatives and to do so \n",
    "3. Use diff function of Python for the derivative calculation. What doas this function and what is its relationship with the real derivation.\n",
    "4. What happens to the second derivative in the edge position where there a sharp transition of the intensity"
   ]
  },
  {
   "cell_type": "code",
   "execution_count": 2,
   "metadata": {},
   "outputs": [],
   "source": [
    "##....\n",
    "##....."
   ]
  },
  {
   "cell_type": "markdown",
   "metadata": {},
   "source": [
    "# 2-First order derivative operators\n",
    "Use a palet of 256 gray levels to diplay your findings. Be careful the the variable type when it deals with the derivation. Pixel intensities could be negative.\n",
    "\n",
    "1. Calculate the norm of the gradient for the image \"cameraman.tif\" : For that, you should first calculate the directional derivatives(dx, dy) and then the norm of the gradient  \n",
    "2. Dsiplay and interpret each calculated derivative\n",
    "3. Same question for Sobel and Prewitt operators (you are allowed to use filter2D of OpenCV)"
   ]
  },
  {
   "cell_type": "code",
   "execution_count": 6,
   "metadata": {},
   "outputs": [],
   "source": [
    "###....\n",
    "###To handle the displaying you can use  \"plt.subplots(1,1,figsize=(n,m))\" "
   ]
  },
  {
   "cell_type": "markdown",
   "metadata": {},
   "source": [
    "# 3. Second order derivative operators \n",
    "\n",
    "1. Apply Laplacian operator on  \"cameraman.tif\"  \n",
    "2. Apply the difference of two gaussians (DOG) (with N=3 the filter size and  sigma = 0.6 for the first gaussian and N=3, sigma = 0.9 for the second one).\n",
    "\n",
    "You can help yourself of the flowing program to create a gaussian :"
   ]
  },
  {
   "cell_type": "code",
   "execution_count": 7,
   "metadata": {},
   "outputs": [],
   "source": [
    "def masque_gaussien(N,sig):\n",
    "    h=np.zeros((N,N),dtype=np.float)\n",
    "    x=np.linspace(-round(N//2),round(N//2),N)\n",
    "    y=np.linspace(-round(N//2),round(N//2),N)\n",
    "    for i in range (len(x)):\n",
    "        for j in range (len(y)):\n",
    "            h[i,j]=16*(np.exp(-(x[i]*x[i]+y[j]*y[j])//(2*s*s)))//(2*np.pi*sig*sig)+1\n",
    "    print(h)\n",
    "    return h"
   ]
  },
  {
   "cell_type": "code",
   "execution_count": 8,
   "metadata": {},
   "outputs": [],
   "source": [
    "##...\n",
    "#....."
   ]
  },
  {
   "cell_type": "markdown",
   "metadata": {},
   "source": [
    "# 4. Edge extraction by thresholding\n",
    "1. Carry out a thresholding for the first order reivative operators \n",
    "2. Carry out a thresholding for the second order reivative operators \n",
    "3. Which differences you notice between these two edge detector families?"
   ]
  },
  {
   "cell_type": "code",
   "execution_count": 9,
   "metadata": {},
   "outputs": [],
   "source": [
    "###...."
   ]
  },
  {
   "cell_type": "markdown",
   "metadata": {},
   "source": [
    "# 5. Role playing\n",
    "1. Create a function EdgeExctractor(img,'method',threshold) that returns the edges of your image according to the used method. If the threshold is not precised it shoul be calculated automatically.\n",
    "2. Data generation : Choose an image in your databese and noise it with a salt and pepper noise ( the image Brain is nice to process)\n",
    "3. Pre-processing : Enhance this image quamity by any method you judge right \n",
    "4. Processing : Detect the Edge of this image by the method of your choice\n",
    "5. Post processing: From your initial, create an output RGB image and hold on in red the detected edges."
   ]
  },
  {
   "cell_type": "code",
   "execution_count": null,
   "metadata": {},
   "outputs": [],
   "source": [
    "##...."
   ]
  }
 ],
 "metadata": {
  "kernelspec": {
   "display_name": "Python 3",
   "language": "python",
   "name": "python3"
  },
  "language_info": {
   "codemirror_mode": {
    "name": "ipython",
    "version": 3
   },
   "file_extension": ".py",
   "mimetype": "text/x-python",
   "name": "python",
   "nbconvert_exporter": "python",
   "pygments_lexer": "ipython3",
   "version": "3.8.3"
  }
 },
 "nbformat": 4,
 "nbformat_minor": 2
}
